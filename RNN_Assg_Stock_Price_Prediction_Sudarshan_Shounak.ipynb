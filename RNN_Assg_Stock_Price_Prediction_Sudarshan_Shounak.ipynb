{
 "cells": [
  {
   "cell_type": "markdown",
   "metadata": {
    "id": "Cjf0S2yqD0uf"
   },
   "source": [
    "# Stock Price Prediction Using RNNs"
   ]
  },
  {
   "cell_type": "markdown",
   "metadata": {
    "id": "mhNGhRQWjN94"
   },
   "source": [
    "## Objective\n",
    "The objective of this assignment is to try and predict the stock prices using historical data from four companies IBM (IBM), Google (GOOGL), Amazon (AMZN), and Microsoft (MSFT).\n",
    "\n",
    "We use four different companies because they belong to the same sector: Technology. Using data from all four companies may improve the performance of the model. This way, we can capture the broader market sentiment.\n",
    "\n",
    "The problem statement for this assignment can be summarised as follows:\n",
    "\n",
    "> Given the stock prices of Amazon, Google, IBM, and Microsoft for a set number of days, predict the stock price of these companies after that window."
   ]
  },
  {
   "cell_type": "markdown",
   "metadata": {
    "id": "w4gU_Gs--yjG"
   },
   "source": [
    "## Business Value\n",
    "\n",
    "Data related to stock markets lends itself well to modeling using RNNs due to its sequential nature. We can keep track of opening prices, closing prices, highest prices, and so on for a long period of time as these values are generated every working day. The patterns observed in this data can then be used to predict the future direction in which stock prices are expected to move. Analyzing this data can be interesting in itself, but it also has a financial incentive as accurate predictions can lead to massive profits."
   ]
  },
  {
   "cell_type": "markdown",
   "metadata": {
    "id": "TC424ieDIlaK"
   },
   "source": [
    "### **Data Description**\n",
    "\n",
    "You have been provided with four CSV files corresponding to four stocks: AMZN, GOOGL, IBM, and MSFT. The files contain historical data that were gathered from the websites of the stock markets where these companies are listed: NYSE and NASDAQ. The columns in all four files are identical. Let's take a look at them:\n",
    "\n",
    "- `Date`: The values in this column specify the date on which the values were recorded. In all four files, the dates range from Jaunary 1, 2006 to January 1, 2018.\n",
    "\n",
    "- `Open`: The values in this column specify the stock price on a given date when the stock market opens.\n",
    "\n",
    "- `High`: The values in this column specify the highest stock price achieved by a stock on a given date.\n",
    "\n",
    "- `Low`: The values in this column specify the lowest stock price achieved by a stock on a given date.\n",
    "\n",
    "- `Close`: The values in this column specify the stock price on a given date when the stock market closes.\n",
    "\n",
    "- `Volume`: The values in this column specify the total number of shares traded on a given date.\n",
    "\n",
    "- `Name`: This column gives the official name of the stock as used in the stock market.\n",
    "\n",
    "There are 3019 records in each data set. The file names are of the format `\\<company_name>_stock_data.csv`."
   ]
  },
  {
   "cell_type": "markdown",
   "metadata": {
    "id": "XzV7hepM8K-H"
   },
   "source": [
    "## **1 Data Loading and Preparation** <font color =red> [25 marks] </font>"
   ]
  },
  {
   "cell_type": "markdown",
   "metadata": {
    "id": "q6UQ2zyxH1Ep"
   },
   "source": [
    "#### **Import Necessary Libraries**"
   ]
  },
  {
   "cell_type": "code",
   "execution_count": 6,
   "metadata": {
    "id": "RyZsIlDgfO3s"
   },
   "outputs": [],
   "source": [
    "# Import libraries\n",
    "\n",
    "import numpy as np\n",
    "import pandas as pd\n",
    "import matplotlib.pyplot as plt\n",
    "import seaborn as sns\n",
    "%matplotlib inline\n",
    "from sklearn.model_selection import train_test_split\n",
    "from sklearn.metrics import mean_absolute_error,mean_squared_error, r2_score\n",
    "import warnings\n",
    "warnings.filterwarnings('ignore')\n",
    "import tensorflow\n",
    "from tensorflow import keras\n"
   ]
  },
  {
   "cell_type": "markdown",
   "metadata": {
    "id": "H4_Xnhwsl-00"
   },
   "source": [
    "### **1.1 Data Aggregation** <font color =red> [7 marks] </font>"
   ]
  },
  {
   "cell_type": "markdown",
   "metadata": {
    "id": "5clrTkdAvq8G"
   },
   "source": [
    "As we are using the stock data for four different companies, we need to create a new DataFrame that contains the combined data from all four data frames. We will create a function that takes in a list of the file names for the four CSV files, and returns a single data frame. This function performs the following tasks:\n",
    "- Extract stock names from file names\n",
    "- Read the CSV files as data frames\n",
    "- Append the stock names into the columns of their respective data frames\n",
    "- Drop unnecessary columns\n",
    "- Join the data frames into one."
   ]
  },
  {
   "cell_type": "markdown",
   "metadata": {
    "id": "3tPMCwNwe1JS"
   },
   "source": [
    "#### **1.1.1** <font color =red> [5 marks] </font>\n",
    "Create the function to join DataFrames and use it to combine the four datasets."
   ]
  },
  {
   "cell_type": "code",
   "execution_count": 7,
   "metadata": {
    "id": "-gj0K2Q65yix"
   },
   "outputs": [],
   "source": [
    "# Define a function to load data and aggregate them\n",
    "\n",
    "def load_bundle_csv(file_dict):\n",
    "    dfs = []\n",
    "\n",
    "    for filename, filepath in file_dict.items():\n",
    "            df = pd.read_csv(filepath)\n",
    "            df = df.rename(columns={\n",
    "            'Open': f'Open{filename}',\n",
    "            'High': f'High{filename}',\n",
    "            'Low': f'Low{filename}',\n",
    "            'Close': f'Close{filename}',\n",
    "            'Volume': f'Volume{filename}'\n",
    "        })\n",
    "            df.drop(\"Name\",axis=1,inplace=True)\n",
    "            df['Date'] = pd.to_datetime(df['Date'])\n",
    "            df.set_index(\"Date\",inplace=True)\n",
    "            dfs.append(df)\n",
    "\n",
    "    integrated_df = dfs[0]\n",
    "    for df in dfs[1:]:\n",
    "      integrated_df = integrated_df.join(df,how='outer',on=\"Date\")\n",
    "    integrated_df.reset_index(inplace=True,drop=True)\n",
    "    return integrated_df\n"
   ]
  },
  {
   "cell_type": "code",
   "execution_count": 8,
   "metadata": {
    "id": "r0sYevlt7kgn"
   },
   "outputs": [],
   "source": [
    "# Specify the names of the raw data files to be read and use the aggregation function to read the files\n",
    "\n",
    "file_dictionary = {\n",
    "    'AMZN': '/Users/shounak/Desktop/Upgrad Projects/Stock Price Prediction/RNN_Stock_Starter_Dataset/RNN_Stocks_Data/AMZN_stocks_data.csv',\n",
    "    'GOOGL': '/Users/shounak/Desktop/Upgrad Projects/Stock Price Prediction/RNN_Stock_Starter_Dataset/RNN_Stocks_Data/GOOGL_stocks_data.csv',\n",
    "    'IBM': '/Users/shounak/Desktop/Upgrad Projects/Stock Price Prediction/RNN_Stock_Starter_Dataset/RNN_Stocks_Data/IBM_stocks_data.csv',\n",
    "    'MSFT': '/Users/shounak/Desktop/Upgrad Projects/Stock Price Prediction/RNN_Stock_Starter_Dataset/RNN_Stocks_Data/MSFT_stocks_data.csv'\n",
    "}\n",
    "\n",
    "integrated_df = load_bundle_csv(file_dict=file_dictionary)"
   ]
  },
  {
   "cell_type": "code",
   "execution_count": 44,
   "metadata": {},
   "outputs": [
    {
     "data": {
      "text/html": [
       "<div>\n",
       "<style scoped>\n",
       "    .dataframe tbody tr th:only-of-type {\n",
       "        vertical-align: middle;\n",
       "    }\n",
       "\n",
       "    .dataframe tbody tr th {\n",
       "        vertical-align: top;\n",
       "    }\n",
       "\n",
       "    .dataframe thead th {\n",
       "        text-align: right;\n",
       "    }\n",
       "</style>\n",
       "<table border=\"1\" class=\"dataframe\">\n",
       "  <thead>\n",
       "    <tr style=\"text-align: right;\">\n",
       "      <th></th>\n",
       "      <th>Date</th>\n",
       "      <th>OpenAMZN</th>\n",
       "      <th>HighAMZN</th>\n",
       "      <th>LowAMZN</th>\n",
       "      <th>CloseAMZN</th>\n",
       "      <th>VolumeAMZN</th>\n",
       "      <th>OpenGOOGL</th>\n",
       "      <th>HighGOOGL</th>\n",
       "      <th>LowGOOGL</th>\n",
       "      <th>CloseGOOGL</th>\n",
       "      <th>...</th>\n",
       "      <th>OpenIBM</th>\n",
       "      <th>HighIBM</th>\n",
       "      <th>LowIBM</th>\n",
       "      <th>CloseIBM</th>\n",
       "      <th>VolumeIBM</th>\n",
       "      <th>OpenMSFT</th>\n",
       "      <th>HighMSFT</th>\n",
       "      <th>LowMSFT</th>\n",
       "      <th>CloseMSFT</th>\n",
       "      <th>VolumeMSFT</th>\n",
       "    </tr>\n",
       "  </thead>\n",
       "  <tbody>\n",
       "    <tr>\n",
       "      <th>0</th>\n",
       "      <td>2006-01-03</td>\n",
       "      <td>47.47</td>\n",
       "      <td>47.85</td>\n",
       "      <td>46.25</td>\n",
       "      <td>47.58</td>\n",
       "      <td>7582127.0</td>\n",
       "      <td>211.47</td>\n",
       "      <td>218.05</td>\n",
       "      <td>209.32</td>\n",
       "      <td>217.83</td>\n",
       "      <td>...</td>\n",
       "      <td>82.45</td>\n",
       "      <td>82.55</td>\n",
       "      <td>80.81</td>\n",
       "      <td>82.06</td>\n",
       "      <td>11715200</td>\n",
       "      <td>26.25</td>\n",
       "      <td>27.00</td>\n",
       "      <td>26.10</td>\n",
       "      <td>26.84</td>\n",
       "      <td>79974418.0</td>\n",
       "    </tr>\n",
       "    <tr>\n",
       "      <th>1</th>\n",
       "      <td>2006-01-04</td>\n",
       "      <td>47.48</td>\n",
       "      <td>47.73</td>\n",
       "      <td>46.69</td>\n",
       "      <td>47.25</td>\n",
       "      <td>7440914.0</td>\n",
       "      <td>222.17</td>\n",
       "      <td>224.70</td>\n",
       "      <td>220.09</td>\n",
       "      <td>222.84</td>\n",
       "      <td>...</td>\n",
       "      <td>82.20</td>\n",
       "      <td>82.50</td>\n",
       "      <td>81.33</td>\n",
       "      <td>81.95</td>\n",
       "      <td>9840600</td>\n",
       "      <td>26.77</td>\n",
       "      <td>27.08</td>\n",
       "      <td>26.77</td>\n",
       "      <td>26.97</td>\n",
       "      <td>57975661.0</td>\n",
       "    </tr>\n",
       "    <tr>\n",
       "      <th>2</th>\n",
       "      <td>2006-01-05</td>\n",
       "      <td>47.16</td>\n",
       "      <td>48.20</td>\n",
       "      <td>47.11</td>\n",
       "      <td>47.65</td>\n",
       "      <td>5417258.0</td>\n",
       "      <td>223.22</td>\n",
       "      <td>226.00</td>\n",
       "      <td>220.97</td>\n",
       "      <td>225.85</td>\n",
       "      <td>...</td>\n",
       "      <td>81.40</td>\n",
       "      <td>82.90</td>\n",
       "      <td>81.00</td>\n",
       "      <td>82.50</td>\n",
       "      <td>7213500</td>\n",
       "      <td>26.96</td>\n",
       "      <td>27.13</td>\n",
       "      <td>26.91</td>\n",
       "      <td>26.99</td>\n",
       "      <td>48247610.0</td>\n",
       "    </tr>\n",
       "    <tr>\n",
       "      <th>3</th>\n",
       "      <td>2006-01-06</td>\n",
       "      <td>47.97</td>\n",
       "      <td>48.58</td>\n",
       "      <td>47.32</td>\n",
       "      <td>47.87</td>\n",
       "      <td>6154285.0</td>\n",
       "      <td>228.66</td>\n",
       "      <td>235.49</td>\n",
       "      <td>226.85</td>\n",
       "      <td>233.06</td>\n",
       "      <td>...</td>\n",
       "      <td>83.95</td>\n",
       "      <td>85.03</td>\n",
       "      <td>83.41</td>\n",
       "      <td>84.95</td>\n",
       "      <td>8197400</td>\n",
       "      <td>26.89</td>\n",
       "      <td>27.00</td>\n",
       "      <td>26.49</td>\n",
       "      <td>26.91</td>\n",
       "      <td>100969092.0</td>\n",
       "    </tr>\n",
       "    <tr>\n",
       "      <th>4</th>\n",
       "      <td>2006-01-09</td>\n",
       "      <td>46.55</td>\n",
       "      <td>47.10</td>\n",
       "      <td>46.40</td>\n",
       "      <td>47.08</td>\n",
       "      <td>8945056.0</td>\n",
       "      <td>233.44</td>\n",
       "      <td>236.94</td>\n",
       "      <td>230.70</td>\n",
       "      <td>233.68</td>\n",
       "      <td>...</td>\n",
       "      <td>84.10</td>\n",
       "      <td>84.25</td>\n",
       "      <td>83.38</td>\n",
       "      <td>83.73</td>\n",
       "      <td>6858200</td>\n",
       "      <td>26.93</td>\n",
       "      <td>27.07</td>\n",
       "      <td>26.76</td>\n",
       "      <td>26.86</td>\n",
       "      <td>55627836.0</td>\n",
       "    </tr>\n",
       "  </tbody>\n",
       "</table>\n",
       "<p>5 rows × 21 columns</p>\n",
       "</div>"
      ],
      "text/plain": [
       "        Date  OpenAMZN  HighAMZN  LowAMZN  CloseAMZN  VolumeAMZN  OpenGOOGL  \\\n",
       "0 2006-01-03     47.47     47.85    46.25      47.58   7582127.0     211.47   \n",
       "1 2006-01-04     47.48     47.73    46.69      47.25   7440914.0     222.17   \n",
       "2 2006-01-05     47.16     48.20    47.11      47.65   5417258.0     223.22   \n",
       "3 2006-01-06     47.97     48.58    47.32      47.87   6154285.0     228.66   \n",
       "4 2006-01-09     46.55     47.10    46.40      47.08   8945056.0     233.44   \n",
       "\n",
       "   HighGOOGL  LowGOOGL  CloseGOOGL  ...  OpenIBM  HighIBM  LowIBM  CloseIBM  \\\n",
       "0     218.05    209.32      217.83  ...    82.45    82.55   80.81     82.06   \n",
       "1     224.70    220.09      222.84  ...    82.20    82.50   81.33     81.95   \n",
       "2     226.00    220.97      225.85  ...    81.40    82.90   81.00     82.50   \n",
       "3     235.49    226.85      233.06  ...    83.95    85.03   83.41     84.95   \n",
       "4     236.94    230.70      233.68  ...    84.10    84.25   83.38     83.73   \n",
       "\n",
       "   VolumeIBM  OpenMSFT  HighMSFT  LowMSFT  CloseMSFT   VolumeMSFT  \n",
       "0   11715200     26.25     27.00    26.10      26.84   79974418.0  \n",
       "1    9840600     26.77     27.08    26.77      26.97   57975661.0  \n",
       "2    7213500     26.96     27.13    26.91      26.99   48247610.0  \n",
       "3    8197400     26.89     27.00    26.49      26.91  100969092.0  \n",
       "4    6858200     26.93     27.07    26.76      26.86   55627836.0  \n",
       "\n",
       "[5 rows x 21 columns]"
      ]
     },
     "execution_count": 44,
     "metadata": {},
     "output_type": "execute_result"
    }
   ],
   "source": [
    "integrated_df.head()"
   ]
  },
  {
   "cell_type": "code",
   "execution_count": 47,
   "metadata": {
    "id": "4qMKdhGj8cKF"
   },
   "outputs": [
    {
     "name": "stdout",
     "output_type": "stream",
     "text": [
      " Preview: First 5 Rows of the Integrated DataFrame\n",
      "\n",
      "        Date  OpenAMZN  HighAMZN  LowAMZN  CloseAMZN  VolumeAMZN  OpenGOOGL  \\\n",
      "0 2006-01-03     47.47     47.85    46.25      47.58   7582127.0     211.47   \n",
      "1 2006-01-04     47.48     47.73    46.69      47.25   7440914.0     222.17   \n",
      "2 2006-01-05     47.16     48.20    47.11      47.65   5417258.0     223.22   \n",
      "3 2006-01-06     47.97     48.58    47.32      47.87   6154285.0     228.66   \n",
      "4 2006-01-09     46.55     47.10    46.40      47.08   8945056.0     233.44   \n",
      "\n",
      "   HighGOOGL  LowGOOGL  CloseGOOGL  ...  OpenIBM  HighIBM  LowIBM  CloseIBM  \\\n",
      "0     218.05    209.32      217.83  ...    82.45    82.55   80.81     82.06   \n",
      "1     224.70    220.09      222.84  ...    82.20    82.50   81.33     81.95   \n",
      "2     226.00    220.97      225.85  ...    81.40    82.90   81.00     82.50   \n",
      "3     235.49    226.85      233.06  ...    83.95    85.03   83.41     84.95   \n",
      "4     236.94    230.70      233.68  ...    84.10    84.25   83.38     83.73   \n",
      "\n",
      "   VolumeIBM  OpenMSFT  HighMSFT  LowMSFT  CloseMSFT   VolumeMSFT  \n",
      "0   11715200     26.25     27.00    26.10      26.84   79974418.0  \n",
      "1    9840600     26.77     27.08    26.77      26.97   57975661.0  \n",
      "2    7213500     26.96     27.13    26.91      26.99   48247610.0  \n",
      "3    8197400     26.89     27.00    26.49      26.91  100969092.0  \n",
      "4    6858200     26.93     27.07    26.76      26.86   55627836.0  \n",
      "\n",
      "[5 rows x 21 columns] \n",
      "\n",
      " Descriptive Statistics (Numerical Columns Only)\n",
      "\n",
      "                                Date     OpenAMZN     HighAMZN      LowAMZN  \\\n",
      "count                           3020  3019.000000  3019.000000  3019.000000   \n",
      "mean   2012-01-01 14:54:59.602649088   299.335310   302.371163   296.037695   \n",
      "min              2006-01-03 00:00:00    26.090000    26.300000    25.760000   \n",
      "25%              2009-01-01 12:00:00    81.175000    82.580000    79.725000   \n",
      "50%              2011-12-29 12:00:00   205.330000   208.000000   202.100000   \n",
      "75%              2014-12-31 12:00:00   375.570000   379.155000   373.000000   \n",
      "max              2017-12-29 00:00:00  1204.880000  1213.410000  1191.150000   \n",
      "std                              NaN   280.120547   281.826442   277.927134   \n",
      "\n",
      "         CloseAMZN    VolumeAMZN    OpenGOOGL    HighGOOGL     LowGOOGL  \\\n",
      "count  3019.000000  3.019000e+03  3019.000000  3019.000000  3019.000000   \n",
      "mean    299.376231  5.931712e+06   428.200802   431.835618   424.130275   \n",
      "min      26.070000  9.864350e+05   131.390000   134.820000   123.770000   \n",
      "25%      81.090000  3.137037e+06   247.775000   250.190000   244.035000   \n",
      "50%     205.440000  4.724100e+06   310.480000   312.810000   307.790000   \n",
      "75%     375.140000  7.135246e+06   572.140000   575.975000   565.900000   \n",
      "max    1195.830000  1.044046e+08  1083.020000  1086.490000  1072.270000   \n",
      "std     279.980161  5.122034e+06   236.320026   237.514087   234.923747   \n",
      "\n",
      "        CloseGOOGL  ...      OpenIBM      HighIBM       LowIBM     CloseIBM  \\\n",
      "count  3019.000000  ...  3019.000000  3020.000000  3019.000000  3020.000000   \n",
      "mean    428.044001  ...   145.515545   146.681738   144.471597   145.617278   \n",
      "min     128.850000  ...    72.740000    73.940000    69.500000    71.740000   \n",
      "25%     247.605000  ...   116.405000   117.765000   115.490000   116.525000   \n",
      "50%     310.080000  ...   149.610000   150.330000   148.470000   149.315000   \n",
      "75%     570.770000  ...   178.445000   179.762500   177.330000   178.685000   \n",
      "max    1085.090000  ...   215.380000   215.900000   214.300000   215.800000   \n",
      "std     236.343238  ...    37.554946    37.613446    37.477641    37.529387   \n",
      "\n",
      "          VolumeIBM     OpenMSFT     HighMSFT      LowMSFT    CloseMSFT  \\\n",
      "count  3.020000e+03  3019.000000  3019.000000  3019.000000  3019.000000   \n",
      "mean   5.773301e+06    36.496817    36.827903    36.173190    36.513412   \n",
      "min    2.542560e+05    15.200000    15.620000    14.870000    15.150000   \n",
      "25%    3.622681e+06    26.785000    27.045000    26.535000    26.835000   \n",
      "50%    4.928852e+06    29.990000    30.230000    29.780000    30.000000   \n",
      "75%    6.965014e+06    44.545000    44.980000    44.090000    44.400000   \n",
      "max    3.077428e+07    87.120000    87.500000    86.230000    86.850000   \n",
      "std    3.192831e+06    14.683337    14.742483    14.620057    14.694656   \n",
      "\n",
      "         VolumeMSFT  \n",
      "count  3.019000e+03  \n",
      "mean   5.161762e+07  \n",
      "min    7.425603e+06  \n",
      "25%    3.136557e+07  \n",
      "50%    4.617529e+07  \n",
      "75%    6.322291e+07  \n",
      "max    5.910786e+08  \n",
      "std    3.114958e+07  \n",
      "\n",
      "[8 rows x 21 columns] \n",
      "\n",
      " Shape of the DataFrame:\n",
      "- Rows: 3020\n",
      "- Columns: 21\n",
      "\n",
      " Data Types of Each Column:\n",
      "\n",
      "Date           datetime64[ns]\n",
      "OpenAMZN              float64\n",
      "HighAMZN              float64\n",
      "LowAMZN               float64\n",
      "CloseAMZN             float64\n",
      "VolumeAMZN            float64\n",
      "OpenGOOGL             float64\n",
      "HighGOOGL             float64\n",
      "LowGOOGL              float64\n",
      "CloseGOOGL            float64\n",
      "VolumeGOOGL           float64\n",
      "OpenIBM               float64\n",
      "HighIBM               float64\n",
      "LowIBM                float64\n",
      "CloseIBM              float64\n",
      "VolumeIBM               int64\n",
      "OpenMSFT              float64\n",
      "HighMSFT              float64\n",
      "LowMSFT               float64\n",
      "CloseMSFT             float64\n",
      "VolumeMSFT            float64\n",
      "dtype: object \n",
      "\n"
     ]
    }
   ],
   "source": [
    "# View specifics of the data\n",
    "\n",
    "# Display the first 5 rows\n",
    "print(\" Preview: First 5 Rows of the Integrated DataFrame\\n\")\n",
    "print(integrated_df.head(), \"\\n\")\n",
    "\n",
    "# Display summary statistics for numeric columns\n",
    "print(\" Descriptive Statistics (Numerical Columns Only)\\n\")\n",
    "print(integrated_df.describe(), \"\\n\")\n",
    "\n",
    "# Display the shape of the DataFrame\n",
    "num_rows, num_cols = integrated_df.shape\n",
    "print(f\" Shape of the DataFrame:\\n- Rows: {num_rows}\\n- Columns: {num_cols}\\n\")\n",
    "\n",
    "print(\" Data Types of Each Column:\\n\")\n",
    "print(integrated_df.dtypes, \"\\n\")\n",
    "\n"
   ]
  },
  {
   "cell_type": "markdown",
   "metadata": {
    "id": "lwVzhIuBfRGn"
   },
   "source": [
    "#### **1.1.2** <font color =red> [2 marks] </font>\n",
    "Identify and handle any missing values."
   ]
  },
  {
   "cell_type": "code",
   "execution_count": 48,
   "metadata": {
    "id": "7vmQGhf69x36"
   },
   "outputs": [
    {
     "data": {
      "text/plain": [
       "Date           0\n",
       "OpenAMZN       1\n",
       "HighAMZN       1\n",
       "LowAMZN        1\n",
       "CloseAMZN      1\n",
       "VolumeAMZN     1\n",
       "OpenGOOGL      1\n",
       "HighGOOGL      1\n",
       "LowGOOGL       1\n",
       "CloseGOOGL     1\n",
       "VolumeGOOGL    1\n",
       "OpenIBM        1\n",
       "HighIBM        0\n",
       "LowIBM         1\n",
       "CloseIBM       0\n",
       "VolumeIBM      0\n",
       "OpenMSFT       1\n",
       "HighMSFT       1\n",
       "LowMSFT        1\n",
       "CloseMSFT      1\n",
       "VolumeMSFT     1\n",
       "dtype: int64"
      ]
     },
     "execution_count": 48,
     "metadata": {},
     "output_type": "execute_result"
    }
   ],
   "source": [
    "# Handle Missing Values\n",
    "\n",
    "integrated_df.isna().sum()"
   ]
  },
  {
   "cell_type": "markdown",
   "metadata": {
    "id": "YuFFxr5jQ4xw"
   },
   "source": [
    "### **1.2 Analysis and Visualisation** <font color =red> [5 marks] </font>"
   ]
  },
  {
   "cell_type": "markdown",
   "metadata": {
    "id": "YnybVo_YQ4xx"
   },
   "source": [
    "#### **1.2.1** <font color =red> [2 marks] </font>\n",
    "Analyse the frequency distribution of stock volumes of the companies and also see how the volumes vary over time."
   ]
  },
  {
   "cell_type": "code",
   "execution_count": 11,
   "metadata": {
    "id": "fGxyKbfRcFl-"
   },
   "outputs": [],
   "source": [
    "# Frequency distribution of volumes\n",
    "\n"
   ]
  },
  {
   "cell_type": "code",
   "execution_count": 12,
   "metadata": {
    "id": "3Q1g9Y0JcNW0"
   },
   "outputs": [],
   "source": [
    "# Stock volume variation over time\n",
    "\n"
   ]
  },
  {
   "cell_type": "markdown",
   "metadata": {
    "id": "QO5frnjURc5i"
   },
   "source": [
    "#### **1.2.2** <font color =red> [3 marks] </font>\n",
    "Analyse correlations between features."
   ]
  },
  {
   "cell_type": "code",
   "execution_count": 13,
   "metadata": {
    "id": "SE9ijOnmP94M"
   },
   "outputs": [],
   "source": [
    "# Analyse correlations\n",
    "\n"
   ]
  },
  {
   "cell_type": "markdown",
   "metadata": {
    "id": "t1dHdCDQl-1K"
   },
   "source": [
    "### **1.3 Data Processing** <font color =red> [13 marks] </font>"
   ]
  },
  {
   "cell_type": "markdown",
   "metadata": {
    "id": "ZjjEYTmOopW4"
   },
   "source": [
    "Next, we need to process the data so that it is ready to be used in recurrent neural networks. You know RNNs are suitable to work with sequential data where patterns repeat at regular intervals.\n",
    "\n",
    "For this, we need to execute the following steps:\n",
    "1. Create windows from the master data frame and obtain windowed `X` and corresponding windowed `y` values\n",
    "2. Perform train-test split on the windowed data\n",
    "3. Scale the data sets in an appropriate manner\n",
    "\n",
    "We will define functions for the above steps that finally return training and testing data sets that are ready to be used in recurrent neural networks."
   ]
  },
  {
   "cell_type": "markdown",
   "metadata": {
    "id": "aTLu14Wuid5n"
   },
   "source": [
    "**Hint:** If we use a window of size 3, in the first window, the rows `[0, 1, 2]` will be present and will be used to predict the value of `CloseAMZN` in row `3`. In the second window, rows `[1, 2, 3]` will be used to predict `CloseAMZN` in row `4`."
   ]
  },
  {
   "cell_type": "markdown",
   "metadata": {
    "id": "mulMxtd6fsFR"
   },
   "source": [
    "#### **1.3.1** <font color =red> [3 marks] </font>\n",
    "Create a function that returns the windowed `X` and `y` data."
   ]
  },
  {
   "cell_type": "markdown",
   "metadata": {
    "id": "hXQOh3iP6W7L"
   },
   "source": [
    "From the main DataFrame, this function will create windowed DataFrames, and store those as a list of DataFrames.\n",
    "\n",
    "Controllable parameters will be window size, step size (window stride length) and target names as a list of the names of stocks whose closing values we wish to predict."
   ]
  },
  {
   "cell_type": "code",
   "execution_count": 14,
   "metadata": {
    "id": "-n1M1-4fvq8i"
   },
   "outputs": [],
   "source": [
    "# Define a function that divides the data into windows and generates target variable values for each window\n",
    "\n"
   ]
  },
  {
   "cell_type": "markdown",
   "metadata": {
    "id": "gw5JL8tgmwc-"
   },
   "source": [
    "#### **1.3.2** <font color =red> [3 marks] </font>\n",
    "Create a function to scale the data."
   ]
  },
  {
   "cell_type": "markdown",
   "metadata": {
    "id": "IBaJkaIx_1Vg"
   },
   "source": [
    "Define a function that will scale the data.\n",
    "\n",
    "For scaling, we have to look at the whole length of data to find max/min values or standard deviations and means. If we scale the whole data at once, this will lead to data leakage in the windows. This is not necessarily a problem if the model is trained on the complete data with cross-validation.\n",
    "\n",
    "One way to scale when dealing with windowed data is to use the `partial_fit()` method.\n",
    "```\n",
    "scaler.partial_fit(window)\n",
    "scaler.transform(window)\n",
    "```\n",
    "You may use any other suitable way to scale the data properly. Arrive at a reasonable way to scale your data."
   ]
  },
  {
   "cell_type": "code",
   "execution_count": 15,
   "metadata": {
    "id": "n9586NZptrAi"
   },
   "outputs": [],
   "source": [
    "# Define a function that scales the windowed data\n",
    "# The function takes in the windowed data sets and returns the scaled windows\n",
    "\n"
   ]
  },
  {
   "cell_type": "markdown",
   "metadata": {
    "id": "C3HhUS59DaCQ"
   },
   "source": [
    "Next, define the main function that will call the windowing and scaling helper functions.\n",
    "\n",
    "The input parameters for this function are:\n",
    "- The joined master data set\n",
    "- The names of the stocks that we wish to predict the *Close* prices for\n",
    "- The window size\n",
    "- The window stride\n",
    "- The train-test split ratio\n",
    "\n",
    "The outputs from this function are the scaled dataframes:\n",
    "- *X_train*\n",
    "- *y_train*\n",
    "- *X_test*\n",
    "- *y_test*"
   ]
  },
  {
   "cell_type": "markdown",
   "metadata": {
    "id": "tND37dF1ksmy"
   },
   "source": [
    "#### **1.3.3** <font color =red> [3 marks] </font>\n",
    "Define a function to create windows of `window_size` and split the windowed data in to training and validation sets."
   ]
  },
  {
   "cell_type": "markdown",
   "metadata": {
    "id": "p3acwSBoArWU"
   },
   "source": [
    "The function can take arguments such as list of target names, window size, window stride and split ratio. Use the windowing function here to make windows in the data and then perform scaling and train-test split."
   ]
  },
  {
   "cell_type": "code",
   "execution_count": 16,
   "metadata": {
    "id": "dvWRH5J4vq8l"
   },
   "outputs": [],
   "source": [
    "# Define a function to create input and output data points from the master DataFrame\n",
    "\n"
   ]
  },
  {
   "cell_type": "markdown",
   "metadata": {
    "id": "H5PZw7SHGUdx"
   },
   "source": [
    "We can now use these helper functions to create our training and testing data sets. But first we need to decide on a length of windows. As we are doing time series prediction, we want to pick a sequence that shows some repetition of patterns.\n",
    "\n",
    "For selecting a good sequence length, some business understanding will help us. In financial scenarios, we can either work with business days, weeks (which comprise of 5 working days), months, or quarters (comprising of 13 business weeks). Try looking for some patterns for these periods."
   ]
  },
  {
   "cell_type": "markdown",
   "metadata": {
    "id": "Mihb_duwxWeC"
   },
   "source": [
    "#### **1.3.4** <font color =red> [2 marks] </font>\n",
    "Identify an appropriate window size."
   ]
  },
  {
   "cell_type": "markdown",
   "metadata": {
    "id": "UG-LrkMVjgT-"
   },
   "source": [
    "For this, you can use plots to see how target variable is varying with time. Try dividing it into parts by weeks/months/quarters."
   ]
  },
  {
   "cell_type": "code",
   "execution_count": 17,
   "metadata": {
    "id": "nhhbomJIrlK_"
   },
   "outputs": [],
   "source": [
    "# Checking for patterns in different sequence lengths\n",
    "\n"
   ]
  },
  {
   "cell_type": "markdown",
   "metadata": {
    "id": "KZpKaENfyblo"
   },
   "source": [
    "#### **1.3.5** <font color =red> [2 marks] </font>\n",
    "Call the functions to create testing and training instances of predictor and target features."
   ]
  },
  {
   "cell_type": "code",
   "execution_count": 18,
   "metadata": {
    "id": "-sFdDgH0vq8o"
   },
   "outputs": [],
   "source": [
    "# Create data instances from the master data frame using decided window size and window stride\n",
    "\n"
   ]
  },
  {
   "cell_type": "code",
   "execution_count": 19,
   "metadata": {
    "id": "JoRLGqp-6aHP"
   },
   "outputs": [],
   "source": [
    "# Check the number of data points generated\n"
   ]
  },
  {
   "cell_type": "markdown",
   "metadata": {
    "id": "51IV5zmjBf-w"
   },
   "source": [
    "**Check if the training and testing datasets are in the proper format to feed into neural networks.**"
   ]
  },
  {
   "cell_type": "code",
   "execution_count": 20,
   "metadata": {
    "id": "ViVKgkrwvq8r"
   },
   "outputs": [],
   "source": [
    "# Check if the datasets are compatible inputs to neural networks\n",
    "\n"
   ]
  },
  {
   "cell_type": "markdown",
   "metadata": {
    "id": "fNNSAT6YfO3z"
   },
   "source": [
    "## **2 RNN Models** <font color =red> [20 marks] </font>"
   ]
  },
  {
   "cell_type": "markdown",
   "metadata": {
    "id": "vqHs0PjzwCve"
   },
   "source": [
    "In this section, we will:\n",
    "- Define a function that creates a simple RNN\n",
    "- Tune the RNN for different hyperparameter values\n",
    "- View the performance of the optimal model on the test data"
   ]
  },
  {
   "cell_type": "markdown",
   "metadata": {
    "id": "Ekq-LY1p86NI"
   },
   "source": [
    "### **2.1 Simple RNN Model** <font color =red> [10 marks] </font>"
   ]
  },
  {
   "cell_type": "markdown",
   "metadata": {
    "id": "Tdzl5ojcyDX7"
   },
   "source": [
    "#### **2.1.1** <font color =red> [3 marks] </font>\n",
    "Create a function that builds a simple RNN model based on the layer configuration provided."
   ]
  },
  {
   "cell_type": "code",
   "execution_count": 21,
   "metadata": {
    "id": "owGKpgMxRtk2"
   },
   "outputs": [],
   "source": [
    "# Create a function that creates a simple RNN model according to the model configuration arguments\n",
    "\n"
   ]
  },
  {
   "cell_type": "markdown",
   "metadata": {
    "id": "R4xDFvOXfO31"
   },
   "source": [
    "#### **2.1.2** <font color =red> [4 marks] </font>\n",
    "Perform hyperparameter tuning to find the optimal network configuration."
   ]
  },
  {
   "cell_type": "code",
   "execution_count": 22,
   "metadata": {
    "id": "jGRsV3GefO31",
    "scrolled": true
   },
   "outputs": [],
   "source": [
    "# Find an optimal configuration of simple RNN\n",
    "\n"
   ]
  },
  {
   "cell_type": "code",
   "execution_count": 23,
   "metadata": {
    "id": "eHuJ61iYfO31"
   },
   "outputs": [],
   "source": [
    "# Find the best configuration based on evaluation metrics\n",
    "\n"
   ]
  },
  {
   "cell_type": "markdown",
   "metadata": {
    "id": "8krOJTq5_fM0"
   },
   "source": [
    "#### **2.1.3** <font color =red> [3 marks] </font>\n",
    "Run for optimal Simple RNN Model and show final results."
   ]
  },
  {
   "cell_type": "code",
   "execution_count": 24,
   "metadata": {
    "id": "qLQPoIQCfO32",
    "scrolled": true
   },
   "outputs": [],
   "source": [
    "# Create an RNN model with a combination of potentially optimal hyperparameter values and retrain the model\n",
    "\n"
   ]
  },
  {
   "cell_type": "markdown",
   "metadata": {
    "id": "-QceWx7D78RH"
   },
   "source": [
    "Plotting the actual vs predicted values"
   ]
  },
  {
   "cell_type": "code",
   "execution_count": 25,
   "metadata": {
    "id": "yK1yY499Ynpq"
   },
   "outputs": [],
   "source": [
    "# Predict on the test data and plot\n",
    "\n"
   ]
  },
  {
   "cell_type": "markdown",
   "metadata": {
    "id": "1GUfu3167Rqx"
   },
   "source": [
    "It is worth noting that every training session for a neural network is unique. So, the results may vary slightly each time you retrain the model."
   ]
  },
  {
   "cell_type": "code",
   "execution_count": 26,
   "metadata": {
    "id": "aHlPLvDcfO32"
   },
   "outputs": [],
   "source": [
    "# Compute the performance of the model on the testing data set\n",
    "\n"
   ]
  },
  {
   "cell_type": "markdown",
   "metadata": {
    "id": "lLmMGXvyvq9V"
   },
   "source": [
    "### **2.2 Advanced RNN Models** <font color =red> [10 marks] </font>"
   ]
  },
  {
   "cell_type": "markdown",
   "metadata": {
    "id": "nCaJYIHzwzP9"
   },
   "source": [
    "In this section, we will:\n",
    "- Create an LSTM or a GRU network\n",
    "- Tune the network for different hyperparameter values\n",
    "- View the performance of the optimal model on the test data"
   ]
  },
  {
   "cell_type": "markdown",
   "metadata": {
    "id": "O6KBxY4Jasm5"
   },
   "source": [
    "#### **2.2.1** <font color =red> [3 marks] </font>\n",
    "Create a function that builds an advanced RNN model with tunable hyperparameters."
   ]
  },
  {
   "cell_type": "code",
   "execution_count": 27,
   "metadata": {
    "id": "0g1yDzllvq9W"
   },
   "outputs": [],
   "source": [
    "# # Define a function to create a model and specify default values for hyperparameters\n",
    "\n"
   ]
  },
  {
   "cell_type": "markdown",
   "metadata": {
    "id": "G0lvqIJ2vq9b"
   },
   "source": [
    "#### **2.2.2** <font color =red> [4 marks] </font>\n",
    "Perform hyperparameter tuning to find the optimal network configuration."
   ]
  },
  {
   "cell_type": "code",
   "execution_count": 28,
   "metadata": {
    "id": "sWRBShecvq9e",
    "scrolled": true
   },
   "outputs": [],
   "source": [
    "# Find an optimal configuration\n",
    "\n"
   ]
  },
  {
   "cell_type": "markdown",
   "metadata": {
    "id": "_n5OTBdSvq9t"
   },
   "source": [
    "#### **2.2.3** <font color =red> [3 marks] </font>\n",
    "Run for optimal RNN Model and show final results."
   ]
  },
  {
   "cell_type": "code",
   "execution_count": 29,
   "metadata": {
    "id": "5uyN6vgzvq9w",
    "scrolled": true
   },
   "outputs": [],
   "source": [
    "# Create the model with a combination of potentially optimal hyperparameter values and retrain the model\n",
    "\n"
   ]
  },
  {
   "cell_type": "code",
   "execution_count": 30,
   "metadata": {
    "id": "1x9njgzwvq92"
   },
   "outputs": [],
   "source": [
    "# Compute the performance of the model on the testing data set\n"
   ]
  },
  {
   "cell_type": "markdown",
   "metadata": {
    "id": "36Hy584ffhsS"
   },
   "source": [
    "Plotting the actual vs predicted values"
   ]
  },
  {
   "cell_type": "code",
   "execution_count": 31,
   "metadata": {
    "id": "31CshI-SfhsS"
   },
   "outputs": [],
   "source": [
    "# Predict on the test data\n"
   ]
  },
  {
   "cell_type": "markdown",
   "metadata": {
    "id": "EStsPXCYf3_q"
   },
   "source": [
    "## **3 Predicting Multiple Target Variables** <font color =red> [OPTIONAL] </font>"
   ]
  },
  {
   "cell_type": "markdown",
   "metadata": {
    "id": "JKaiTII-23Aq"
   },
   "source": [
    "In this section, we will use recurrent neural networks to predict stock prices for more than one company."
   ]
  },
  {
   "cell_type": "markdown",
   "metadata": {
    "id": "taBw30-HLTWV"
   },
   "source": [
    "### **3.1 Data Preparation**"
   ]
  },
  {
   "cell_type": "markdown",
   "metadata": {
    "id": "A9aHdR6EgVqT"
   },
   "source": [
    "#### **3.1.1**\n",
    "Create testing and training instances for multiple target features."
   ]
  },
  {
   "cell_type": "markdown",
   "metadata": {
    "id": "Ua3P_ySxgq9Z"
   },
   "source": [
    "You can take the closing price of all four companies to predict here."
   ]
  },
  {
   "cell_type": "code",
   "execution_count": 32,
   "metadata": {
    "id": "BQEWm-m129Rw"
   },
   "outputs": [],
   "source": [
    "# Create data instances from the master data frame using a window size of 65, a window stride of 5 and a test size of 20%\n",
    "# Specify the list of stock names whose 'Close' values you wish to predict using the 'target_names' parameter\n",
    "\n"
   ]
  },
  {
   "cell_type": "code",
   "execution_count": 33,
   "metadata": {
    "id": "4_WWJKvsLlAA"
   },
   "outputs": [],
   "source": [
    "# Check the number of data points generated\n",
    "\n"
   ]
  },
  {
   "cell_type": "markdown",
   "metadata": {
    "id": "4kUyl2U9LnpK"
   },
   "source": [
    "### **3.2 Run RNN Models**"
   ]
  },
  {
   "cell_type": "markdown",
   "metadata": {
    "id": "c2HTWIcWhLE0"
   },
   "source": [
    "#### **3.2.1**\n",
    "Perform hyperparameter tuning to find the optimal network configuration for Simple RNN model."
   ]
  },
  {
   "cell_type": "code",
   "execution_count": 34,
   "metadata": {
    "id": "FhjXH72pMI4t",
    "scrolled": true
   },
   "outputs": [],
   "source": [
    "# Find an optimal configuration of simple RNN\n",
    "\n"
   ]
  },
  {
   "cell_type": "code",
   "execution_count": 35,
   "metadata": {
    "id": "DYXngNUmMI4u"
   },
   "outputs": [],
   "source": [
    "# Find the best configuration\n",
    "\n"
   ]
  },
  {
   "cell_type": "code",
   "execution_count": 36,
   "metadata": {
    "id": "-vyWykGBMI4y",
    "scrolled": true
   },
   "outputs": [],
   "source": [
    "# Create an RNN model with a combination of potentially optimal hyperparameter values and retrain the\n",
    "\n"
   ]
  },
  {
   "cell_type": "code",
   "execution_count": 37,
   "metadata": {
    "id": "4j63wDQkMcNB"
   },
   "outputs": [],
   "source": [
    "# Compute the performance of the model on the testing data set\n",
    "\n"
   ]
  },
  {
   "cell_type": "code",
   "execution_count": 38,
   "metadata": {
    "id": "4QbM-hR6h-SV"
   },
   "outputs": [],
   "source": [
    "# Plotting the actual vs predicted values for all targets\n",
    "\n"
   ]
  },
  {
   "cell_type": "markdown",
   "metadata": {
    "id": "vnwOVGv5MjXi"
   },
   "source": [
    "#### **3.2.2**\n",
    "Perform hyperparameter tuning to find the optimal network configuration for Advanced RNN model."
   ]
  },
  {
   "cell_type": "code",
   "execution_count": 39,
   "metadata": {
    "id": "vQRqZZbEIrh9",
    "scrolled": true
   },
   "outputs": [],
   "source": [
    "# Find an optimal configuration of advanced RNN\n",
    "\n"
   ]
  },
  {
   "cell_type": "code",
   "execution_count": 40,
   "metadata": {
    "id": "PZswZ55JIrh-"
   },
   "outputs": [],
   "source": [
    "# Find the best configuration\n",
    "\n"
   ]
  },
  {
   "cell_type": "code",
   "execution_count": 41,
   "metadata": {
    "id": "3Fh-2tBTNWXI",
    "scrolled": true
   },
   "outputs": [],
   "source": [
    "# Create a model with a combination of potentially optimal hyperparameter values and retrain the model\n",
    "\n"
   ]
  },
  {
   "cell_type": "code",
   "execution_count": 42,
   "metadata": {
    "id": "_y7m-nziNWXK"
   },
   "outputs": [],
   "source": [
    "# Compute the performance of the model on the testing data set\n",
    "\n"
   ]
  },
  {
   "cell_type": "code",
   "execution_count": 43,
   "metadata": {
    "id": "3OMsd4hHicRO"
   },
   "outputs": [],
   "source": [
    "# Plotting the actual vs predicted values for all targets\n",
    "\n"
   ]
  },
  {
   "cell_type": "markdown",
   "metadata": {
    "id": "YItIF9_SmeCN"
   },
   "source": [
    "## **4 Conclusion** <font color =red> [5 marks] </font>"
   ]
  },
  {
   "cell_type": "markdown",
   "metadata": {
    "id": "qGwEyQn1meCN"
   },
   "source": [
    "### **4.1 Conclusion and insights** <font color =red> [5 marks] </font>"
   ]
  },
  {
   "cell_type": "markdown",
   "metadata": {
    "id": "RqBneTdDaVYw"
   },
   "source": [
    "#### **4.1.1** <font color =red> [5 marks] </font>\n",
    "Conclude with the insights drawn and final outcomes and results."
   ]
  }
 ],
 "metadata": {
  "colab": {
   "provenance": [
    {
     "file_id": "1YH9zvGTQCZrVKcWwV8QeTmIyR6cGfcX4",
     "timestamp": 1740056154426
    }
   ],
   "toc_visible": true
  },
  "kernelspec": {
   "display_name": "base",
   "language": "python",
   "name": "python3"
  },
  "language_info": {
   "codemirror_mode": {
    "name": "ipython",
    "version": 3
   },
   "file_extension": ".py",
   "mimetype": "text/x-python",
   "name": "python",
   "nbconvert_exporter": "python",
   "pygments_lexer": "ipython3",
   "version": "3.11.7"
  }
 },
 "nbformat": 4,
 "nbformat_minor": 0
}
